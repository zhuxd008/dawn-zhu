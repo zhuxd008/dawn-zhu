{
    "cells": [
        {
            "cell_type": "markdown",
            "metadata": {},
            "source": "# Bank Marketing Campaign Outcome Prediction\n## Data Source\n##### The data is related with direct marketing campaigns of a Portuguese banking institution. The marketing campaigns were based on phone calls. Often, more than one contact to the same client was required, in order to access if the product (bank term deposit) would be ('yes') or not ('no') subscribed. The classification goal is to predict if the client will subscribe (yes/no) a term deposit (variable y).\n##### The full dataset is publicly downloadable from https://query.data.world/s/qojyxsfjjlfztmhqtpyze5y7lapmwk \n##### Source: \n\n#####   https://data.world/data-society/bank-marketing-data/workspace/project-summary?agentid=data-society&datasetid=bank-marketing-data\n\n##### Citation: \n##### [Moro et al., 2011] S. Moro, R. Laureano and P. Cortez. Using Data Mining for Bank Direct Marketing: An Application of the CRISP-DM Methodology. \n#####   In P. Novais et al. (Eds.), Proceedings of the European Simulation and Modelling Conference - ESM'2011, pp. 117-121, Guimar\u00e3es, Portugal, October, 2011. EUROSIS.\n"
        },
        {
            "cell_type": "markdown",
            "metadata": {},
            "source": "## Problem Statement\n#### This is a classification problem. A large set of supervised data from previous marketing campaigns was given to build a prediction model for likelihood of a future client subscribing (yes or no) to the bank's term deposit (variable y). "
        },
        {
            "cell_type": "markdown",
            "metadata": {},
            "source": "## Thought Process\n#### Data understanding: Data was first downloaded and displayed to get familarity of its composition. How many feature variables? What are their data types? Which are categorical and which are continuous?  What are the categories and counts for categorical features? What are the distribution of each feature?  Are there missing data (based on avaiable description, all missing data was replaced with 'unknown')? \n#### Data cleaning: For the sake of demonstration, the rows with missing data are dropped. In actual practice each missing data needs to be strategically thought through. #### Preprocessing: Features that are heavily skewed to only one category are being removed. What is the correlation between features? Highly correlated features (if any) will be reduced to one. One particular variable, call duration ('duration'), is highly correlated with outcome 'y'. However, this variable is unknow when prediction is performed. So this variable will not be selected as a feature for modeling. Then, Categorial inputs are transformed to numerical imputs. Data is normalized. \n#### Data modeling: Classification algorithms are being considered. Since the probability of a client subscribing can be of interest, Logistric Regression is seleted. \n#### Data prediction and evaluation: Test data is used to predict the outcome. The predicted result is compared with actual test data for computing accuracy, confusion matrix and F1-score of the model."
        },
        {
            "cell_type": "markdown",
            "metadata": {},
            "source": "## Iterations\n#### The inital model had good accuracy. However, when looking at the confusion matrix and F1-score, high false negative value was observed. For bank business, false negative means missing a potential business. So it is to our best interest to better predict 'yes' response (reduce false negative). Recall response 'y' is heavily skewed toward 'no'. So the hypothesis is that the samples are imbalanced, causing a bad performance on prediction of 'yes'. So undersampling was performed to rebalance the data then new model LR2 was built based on the new samples. The performance improved significantly. \n#### During another iteration, overfitting was also investigated and feature reduction was performed to attemp to produce higher model performance (LR3). But result showed no improvement of performance. \n#### For future iterations, features can be further engineered, oversampling can also be tested. Other classification algorithm such as Decision Tree and SVM can be explored. But for the time constraint, this work is aimed to show thought process and methodology in exploring and extracting information from unknown dataset. "
        },
        {
            "cell_type": "markdown",
            "metadata": {},
            "source": "## Finding\n#### The hypothesis of the imbalance of training data (much more 'no's) as a major cause of the poor model performance was proved. Undersampling improved model performance on predicting 'yes' significantly.\n#### Features which are highly correlated to outcome were discovered. Certain social and economical factors can have major impact on the outcome."
        },
        {
            "cell_type": "code",
            "execution_count": 1,
            "metadata": {},
            "outputs": [],
            "source": "#Import libraries\nimport pandas as pd\nimport pylab as pl\nimport numpy as np\nimport scipy.optimize as opt\nfrom sklearn import preprocessing\nfrom sklearn import metrics\n%matplotlib inline \nimport matplotlib.pyplot as plt"
        },
        {
            "cell_type": "markdown",
            "metadata": {},
            "source": "## Data Acquisition and Understanding"
        },
        {
            "cell_type": "code",
            "execution_count": 2,
            "metadata": {},
            "outputs": [
                {
                    "data": {
                        "text/html": "<div>\n<style scoped>\n    .dataframe tbody tr th:only-of-type {\n        vertical-align: middle;\n    }\n\n    .dataframe tbody tr th {\n        vertical-align: top;\n    }\n\n    .dataframe thead th {\n        text-align: right;\n    }\n</style>\n<table border=\"1\" class=\"dataframe\">\n  <thead>\n    <tr style=\"text-align: right;\">\n      <th></th>\n      <th>age</th>\n      <th>job</th>\n      <th>marital</th>\n      <th>education</th>\n      <th>default</th>\n      <th>housing</th>\n      <th>loan</th>\n      <th>contact</th>\n      <th>month</th>\n      <th>day_of_week</th>\n      <th>...</th>\n      <th>campaign</th>\n      <th>pdays</th>\n      <th>previous</th>\n      <th>poutcome</th>\n      <th>emp.var.rate</th>\n      <th>cons.price.idx</th>\n      <th>cons.conf.idx</th>\n      <th>euribor3m</th>\n      <th>nr.employed</th>\n      <th>y</th>\n    </tr>\n  </thead>\n  <tbody>\n    <tr>\n      <th>0</th>\n      <td>56</td>\n      <td>housemaid</td>\n      <td>married</td>\n      <td>basic.4y</td>\n      <td>no</td>\n      <td>no</td>\n      <td>no</td>\n      <td>telephone</td>\n      <td>may</td>\n      <td>mon</td>\n      <td>...</td>\n      <td>1</td>\n      <td>999</td>\n      <td>0</td>\n      <td>nonexistent</td>\n      <td>1.1</td>\n      <td>93.994</td>\n      <td>-36.4</td>\n      <td>4.857</td>\n      <td>5191.0</td>\n      <td>no</td>\n    </tr>\n    <tr>\n      <th>1</th>\n      <td>57</td>\n      <td>services</td>\n      <td>married</td>\n      <td>high.school</td>\n      <td>unknown</td>\n      <td>no</td>\n      <td>no</td>\n      <td>telephone</td>\n      <td>may</td>\n      <td>mon</td>\n      <td>...</td>\n      <td>1</td>\n      <td>999</td>\n      <td>0</td>\n      <td>nonexistent</td>\n      <td>1.1</td>\n      <td>93.994</td>\n      <td>-36.4</td>\n      <td>4.857</td>\n      <td>5191.0</td>\n      <td>no</td>\n    </tr>\n    <tr>\n      <th>2</th>\n      <td>37</td>\n      <td>services</td>\n      <td>married</td>\n      <td>high.school</td>\n      <td>no</td>\n      <td>yes</td>\n      <td>no</td>\n      <td>telephone</td>\n      <td>may</td>\n      <td>mon</td>\n      <td>...</td>\n      <td>1</td>\n      <td>999</td>\n      <td>0</td>\n      <td>nonexistent</td>\n      <td>1.1</td>\n      <td>93.994</td>\n      <td>-36.4</td>\n      <td>4.857</td>\n      <td>5191.0</td>\n      <td>no</td>\n    </tr>\n    <tr>\n      <th>3</th>\n      <td>40</td>\n      <td>admin.</td>\n      <td>married</td>\n      <td>basic.6y</td>\n      <td>no</td>\n      <td>no</td>\n      <td>no</td>\n      <td>telephone</td>\n      <td>may</td>\n      <td>mon</td>\n      <td>...</td>\n      <td>1</td>\n      <td>999</td>\n      <td>0</td>\n      <td>nonexistent</td>\n      <td>1.1</td>\n      <td>93.994</td>\n      <td>-36.4</td>\n      <td>4.857</td>\n      <td>5191.0</td>\n      <td>no</td>\n    </tr>\n    <tr>\n      <th>4</th>\n      <td>56</td>\n      <td>services</td>\n      <td>married</td>\n      <td>high.school</td>\n      <td>no</td>\n      <td>no</td>\n      <td>yes</td>\n      <td>telephone</td>\n      <td>may</td>\n      <td>mon</td>\n      <td>...</td>\n      <td>1</td>\n      <td>999</td>\n      <td>0</td>\n      <td>nonexistent</td>\n      <td>1.1</td>\n      <td>93.994</td>\n      <td>-36.4</td>\n      <td>4.857</td>\n      <td>5191.0</td>\n      <td>no</td>\n    </tr>\n  </tbody>\n</table>\n<p>5 rows \u00d7 21 columns</p>\n</div>",
                        "text/plain": "   age        job  marital    education  default housing loan    contact  \\\n0   56  housemaid  married     basic.4y       no      no   no  telephone   \n1   57   services  married  high.school  unknown      no   no  telephone   \n2   37   services  married  high.school       no     yes   no  telephone   \n3   40     admin.  married     basic.6y       no      no   no  telephone   \n4   56   services  married  high.school       no      no  yes  telephone   \n\n  month day_of_week  ...  campaign  pdays  previous     poutcome emp.var.rate  \\\n0   may         mon  ...         1    999         0  nonexistent          1.1   \n1   may         mon  ...         1    999         0  nonexistent          1.1   \n2   may         mon  ...         1    999         0  nonexistent          1.1   \n3   may         mon  ...         1    999         0  nonexistent          1.1   \n4   may         mon  ...         1    999         0  nonexistent          1.1   \n\n   cons.price.idx  cons.conf.idx  euribor3m  nr.employed   y  \n0          93.994          -36.4      4.857       5191.0  no  \n1          93.994          -36.4      4.857       5191.0  no  \n2          93.994          -36.4      4.857       5191.0  no  \n3          93.994          -36.4      4.857       5191.0  no  \n4          93.994          -36.4      4.857       5191.0  no  \n\n[5 rows x 21 columns]"
                    },
                    "execution_count": 2,
                    "metadata": {},
                    "output_type": "execute_result"
                }
            ],
            "source": "#Data acquisition\n#Load dataset\ndf = pd.read_csv('https://query.data.world/s/qojyxsfjjlfztmhqtpyze5y7lapmwk',sep=';')\ndf.head()"
        },
        {
            "cell_type": "code",
            "execution_count": 3,
            "metadata": {},
            "outputs": [
                {
                    "data": {
                        "text/plain": "(41188, 21)"
                    },
                    "execution_count": 3,
                    "metadata": {},
                    "output_type": "execute_result"
                }
            ],
            "source": "df.shape"
        },
        {
            "cell_type": "code",
            "execution_count": 4,
            "metadata": {},
            "outputs": [
                {
                    "data": {
                        "text/plain": "age               0\njob               0\nmarital           0\neducation         0\ndefault           0\nhousing           0\nloan              0\ncontact           0\nmonth             0\nday_of_week       0\nduration          0\ncampaign          0\npdays             0\nprevious          0\npoutcome          0\nemp.var.rate      0\ncons.price.idx    0\ncons.conf.idx     0\neuribor3m         0\nnr.employed       0\ny                 0\ndtype: int64"
                    },
                    "execution_count": 4,
                    "metadata": {},
                    "output_type": "execute_result"
                }
            ],
            "source": "# Check if there is missing data\ndf.isnull().sum()"
        },
        {
            "cell_type": "code",
            "execution_count": 5,
            "metadata": {
                "scrolled": true
            },
            "outputs": [
                {
                    "data": {
                        "text/plain": "age                 int64\njob                object\nmarital            object\neducation          object\ndefault            object\nhousing            object\nloan               object\ncontact            object\nmonth              object\nday_of_week        object\nduration            int64\ncampaign            int64\npdays               int64\nprevious            int64\npoutcome           object\nemp.var.rate      float64\ncons.price.idx    float64\ncons.conf.idx     float64\neuribor3m         float64\nnr.employed       float64\ny                  object\ndtype: object"
                    },
                    "execution_count": 5,
                    "metadata": {},
                    "output_type": "execute_result"
                }
            ],
            "source": "df.dtypes"
        },
        {
            "cell_type": "code",
            "execution_count": 6,
            "metadata": {},
            "outputs": [
                {
                    "data": {
                        "text/html": "<div>\n<style scoped>\n    .dataframe tbody tr th:only-of-type {\n        vertical-align: middle;\n    }\n\n    .dataframe tbody tr th {\n        vertical-align: top;\n    }\n\n    .dataframe thead th {\n        text-align: right;\n    }\n</style>\n<table border=\"1\" class=\"dataframe\">\n  <thead>\n    <tr style=\"text-align: right;\">\n      <th></th>\n      <th>age</th>\n      <th>duration</th>\n      <th>campaign</th>\n      <th>pdays</th>\n      <th>previous</th>\n      <th>emp.var.rate</th>\n      <th>cons.price.idx</th>\n      <th>cons.conf.idx</th>\n      <th>euribor3m</th>\n      <th>nr.employed</th>\n    </tr>\n  </thead>\n  <tbody>\n    <tr>\n      <th>count</th>\n      <td>41188.00000</td>\n      <td>41188.000000</td>\n      <td>41188.000000</td>\n      <td>41188.000000</td>\n      <td>41188.000000</td>\n      <td>41188.000000</td>\n      <td>41188.000000</td>\n      <td>41188.000000</td>\n      <td>41188.000000</td>\n      <td>41188.000000</td>\n    </tr>\n    <tr>\n      <th>mean</th>\n      <td>40.02406</td>\n      <td>258.285010</td>\n      <td>2.567593</td>\n      <td>962.475454</td>\n      <td>0.172963</td>\n      <td>0.081886</td>\n      <td>93.575664</td>\n      <td>-40.502600</td>\n      <td>3.621291</td>\n      <td>5167.035911</td>\n    </tr>\n    <tr>\n      <th>std</th>\n      <td>10.42125</td>\n      <td>259.279249</td>\n      <td>2.770014</td>\n      <td>186.910907</td>\n      <td>0.494901</td>\n      <td>1.570960</td>\n      <td>0.578840</td>\n      <td>4.628198</td>\n      <td>1.734447</td>\n      <td>72.251528</td>\n    </tr>\n    <tr>\n      <th>min</th>\n      <td>17.00000</td>\n      <td>0.000000</td>\n      <td>1.000000</td>\n      <td>0.000000</td>\n      <td>0.000000</td>\n      <td>-3.400000</td>\n      <td>92.201000</td>\n      <td>-50.800000</td>\n      <td>0.634000</td>\n      <td>4963.600000</td>\n    </tr>\n    <tr>\n      <th>25%</th>\n      <td>32.00000</td>\n      <td>102.000000</td>\n      <td>1.000000</td>\n      <td>999.000000</td>\n      <td>0.000000</td>\n      <td>-1.800000</td>\n      <td>93.075000</td>\n      <td>-42.700000</td>\n      <td>1.344000</td>\n      <td>5099.100000</td>\n    </tr>\n    <tr>\n      <th>50%</th>\n      <td>38.00000</td>\n      <td>180.000000</td>\n      <td>2.000000</td>\n      <td>999.000000</td>\n      <td>0.000000</td>\n      <td>1.100000</td>\n      <td>93.749000</td>\n      <td>-41.800000</td>\n      <td>4.857000</td>\n      <td>5191.000000</td>\n    </tr>\n    <tr>\n      <th>75%</th>\n      <td>47.00000</td>\n      <td>319.000000</td>\n      <td>3.000000</td>\n      <td>999.000000</td>\n      <td>0.000000</td>\n      <td>1.400000</td>\n      <td>93.994000</td>\n      <td>-36.400000</td>\n      <td>4.961000</td>\n      <td>5228.100000</td>\n    </tr>\n    <tr>\n      <th>max</th>\n      <td>98.00000</td>\n      <td>4918.000000</td>\n      <td>56.000000</td>\n      <td>999.000000</td>\n      <td>7.000000</td>\n      <td>1.400000</td>\n      <td>94.767000</td>\n      <td>-26.900000</td>\n      <td>5.045000</td>\n      <td>5228.100000</td>\n    </tr>\n  </tbody>\n</table>\n</div>",
                        "text/plain": "               age      duration      campaign         pdays      previous  \\\ncount  41188.00000  41188.000000  41188.000000  41188.000000  41188.000000   \nmean      40.02406    258.285010      2.567593    962.475454      0.172963   \nstd       10.42125    259.279249      2.770014    186.910907      0.494901   \nmin       17.00000      0.000000      1.000000      0.000000      0.000000   \n25%       32.00000    102.000000      1.000000    999.000000      0.000000   \n50%       38.00000    180.000000      2.000000    999.000000      0.000000   \n75%       47.00000    319.000000      3.000000    999.000000      0.000000   \nmax       98.00000   4918.000000     56.000000    999.000000      7.000000   \n\n       emp.var.rate  cons.price.idx  cons.conf.idx     euribor3m   nr.employed  \ncount  41188.000000    41188.000000   41188.000000  41188.000000  41188.000000  \nmean       0.081886       93.575664     -40.502600      3.621291   5167.035911  \nstd        1.570960        0.578840       4.628198      1.734447     72.251528  \nmin       -3.400000       92.201000     -50.800000      0.634000   4963.600000  \n25%       -1.800000       93.075000     -42.700000      1.344000   5099.100000  \n50%        1.100000       93.749000     -41.800000      4.857000   5191.000000  \n75%        1.400000       93.994000     -36.400000      4.961000   5228.100000  \nmax        1.400000       94.767000     -26.900000      5.045000   5228.100000  "
                    },
                    "execution_count": 6,
                    "metadata": {},
                    "output_type": "execute_result"
                }
            ],
            "source": "df.describe()"
        },
        {
            "cell_type": "markdown",
            "metadata": {},
            "source": "\n#### Check unique values of each category"
        },
        {
            "cell_type": "code",
            "execution_count": 7,
            "metadata": {},
            "outputs": [
                {
                    "data": {
                        "text/plain": "admin.           10422\nblue-collar       9254\ntechnician        6743\nservices          3969\nmanagement        2924\nretired           1720\nentrepreneur      1456\nself-employed     1421\nhousemaid         1060\nunemployed        1014\nstudent            875\nunknown            330\nName: job, dtype: int64"
                    },
                    "execution_count": 7,
                    "metadata": {},
                    "output_type": "execute_result"
                }
            ],
            "source": "df['job'].value_counts()"
        },
        {
            "cell_type": "code",
            "execution_count": 8,
            "metadata": {},
            "outputs": [
                {
                    "data": {
                        "text/plain": "married     24928\nsingle      11568\ndivorced     4612\nunknown        80\nName: marital, dtype: int64"
                    },
                    "execution_count": 8,
                    "metadata": {},
                    "output_type": "execute_result"
                }
            ],
            "source": "df['marital'].value_counts()"
        },
        {
            "cell_type": "code",
            "execution_count": 9,
            "metadata": {},
            "outputs": [
                {
                    "data": {
                        "text/plain": "university.degree      12168\nhigh.school             9515\nbasic.9y                6045\nprofessional.course     5243\nbasic.4y                4176\nbasic.6y                2292\nunknown                 1731\nilliterate                18\nName: education, dtype: int64"
                    },
                    "execution_count": 9,
                    "metadata": {},
                    "output_type": "execute_result"
                }
            ],
            "source": "df['education'].value_counts()"
        },
        {
            "cell_type": "code",
            "execution_count": 10,
            "metadata": {},
            "outputs": [
                {
                    "data": {
                        "text/plain": "no         32588\nunknown     8597\nyes            3\nName: default, dtype: int64"
                    },
                    "execution_count": 10,
                    "metadata": {},
                    "output_type": "execute_result"
                }
            ],
            "source": "df['default'].value_counts()"
        },
        {
            "cell_type": "code",
            "execution_count": 11,
            "metadata": {},
            "outputs": [
                {
                    "data": {
                        "text/plain": "cellular     26144\ntelephone    15044\nName: contact, dtype: int64"
                    },
                    "execution_count": 11,
                    "metadata": {},
                    "output_type": "execute_result"
                }
            ],
            "source": "df['contact'].value_counts()"
        },
        {
            "cell_type": "markdown",
            "metadata": {},
            "source": "##### 'default' does not have much classification, will be dropped from the features.\n====="
        },
        {
            "cell_type": "code",
            "execution_count": 12,
            "metadata": {},
            "outputs": [
                {
                    "data": {
                        "text/plain": "yes        21576\nno         18622\nunknown      990\nName: housing, dtype: int64"
                    },
                    "execution_count": 12,
                    "metadata": {},
                    "output_type": "execute_result"
                }
            ],
            "source": "df['housing'].value_counts()"
        },
        {
            "cell_type": "code",
            "execution_count": 13,
            "metadata": {},
            "outputs": [
                {
                    "data": {
                        "text/plain": "no         33950\nyes         6248\nunknown      990\nName: loan, dtype: int64"
                    },
                    "execution_count": 13,
                    "metadata": {},
                    "output_type": "execute_result"
                }
            ],
            "source": "df['loan'].value_counts()"
        },
        {
            "cell_type": "code",
            "execution_count": 14,
            "metadata": {},
            "outputs": [
                {
                    "data": {
                        "image/png": "[encoded data removed]",
                        "text/plain": "<Figure size 432x288 with 1 Axes>"
                    },
                    "metadata": {
                        "needs_background": "light"
                    },
                    "output_type": "display_data"
                }
            ],
            "source": "plt.hist(df[\"age\"])\nplt.title(\"age\")\nplt.show()"
        },
        {
            "cell_type": "code",
            "execution_count": 15,
            "metadata": {},
            "outputs": [
                {
                    "data": {
                        "image/png": "[encoded data removed]",
                        "text/plain": "<Figure size 432x288 with 1 Axes>"
                    },
                    "metadata": {
                        "needs_background": "light"
                    },
                    "output_type": "display_data"
                }
            ],
            "source": "plt.hist(df[\"duration\"])\nplt.title(\"duration\")\nplt.show()"
        },
        {
            "cell_type": "code",
            "execution_count": 16,
            "metadata": {
                "scrolled": true
            },
            "outputs": [
                {
                    "data": {
                        "image/png": "[encoded data removed]",
                        "text/plain": "<Figure size 432x288 with 1 Axes>"
                    },
                    "metadata": {
                        "needs_background": "light"
                    },
                    "output_type": "display_data"
                }
            ],
            "source": "plt.hist(df[\"campaign\"])\nplt.title(\"campaign\")\nplt.show()"
        },
        {
            "cell_type": "code",
            "execution_count": 17,
            "metadata": {
                "scrolled": true
            },
            "outputs": [
                {
                    "data": {
                        "image/png": "[encoded data removed]",
                        "text/plain": "<Figure size 432x288 with 1 Axes>"
                    },
                    "metadata": {
                        "needs_background": "light"
                    },
                    "output_type": "display_data"
                }
            ],
            "source": "plt.hist(df[\"pdays\"])\nplt.title(\"pdays\")\nplt.show()"
        },
        {
            "cell_type": "markdown",
            "metadata": {},
            "source": "##### Most 'pdays' use 999 as default value. This feature can be dropped.\n====="
        },
        {
            "cell_type": "code",
            "execution_count": 18,
            "metadata": {},
            "outputs": [
                {
                    "data": {
                        "text/plain": "nonexistent    35563\nfailure         4252\nsuccess         1373\nName: poutcome, dtype: int64"
                    },
                    "execution_count": 18,
                    "metadata": {},
                    "output_type": "execute_result"
                }
            ],
            "source": "df['poutcome'].value_counts()"
        },
        {
            "cell_type": "markdown",
            "metadata": {},
            "source": "##### 'poutcome' has too many 'nonexistent', this feature will be dropped\n====="
        },
        {
            "cell_type": "code",
            "execution_count": 19,
            "metadata": {},
            "outputs": [
                {
                    "data": {
                        "text/plain": "no     36548\nyes     4640\nName: y, dtype: int64"
                    },
                    "execution_count": 19,
                    "metadata": {},
                    "output_type": "execute_result"
                }
            ],
            "source": "df['y'].value_counts()"
        },
        {
            "cell_type": "markdown",
            "metadata": {},
            "source": "##### Notice of the imbalance of data\n======"
        },
        {
            "cell_type": "markdown",
            "metadata": {},
            "source": "## ITERATION ONE"
        },
        {
            "cell_type": "markdown",
            "metadata": {},
            "source": "## Preprocessing"
        },
        {
            "cell_type": "markdown",
            "metadata": {},
            "source": "### Feature Selection"
        },
        {
            "cell_type": "code",
            "execution_count": 20,
            "metadata": {
                "scrolled": true
            },
            "outputs": [
                {
                    "data": {
                        "text/html": "<div>\n<style scoped>\n    .dataframe tbody tr th:only-of-type {\n        vertical-align: middle;\n    }\n\n    .dataframe tbody tr th {\n        vertical-align: top;\n    }\n\n    .dataframe thead th {\n        text-align: right;\n    }\n</style>\n<table border=\"1\" class=\"dataframe\">\n  <thead>\n    <tr style=\"text-align: right;\">\n      <th></th>\n      <th>age</th>\n      <th>job</th>\n      <th>marital</th>\n      <th>education</th>\n      <th>housing</th>\n      <th>loan</th>\n      <th>contact</th>\n      <th>duration</th>\n      <th>campaign</th>\n      <th>previous</th>\n      <th>emp.var.rate</th>\n      <th>cons.price.idx</th>\n      <th>euribor3m</th>\n      <th>nr.employed</th>\n      <th>y</th>\n    </tr>\n  </thead>\n  <tbody>\n    <tr>\n      <th>0</th>\n      <td>56</td>\n      <td>housemaid</td>\n      <td>married</td>\n      <td>basic.4y</td>\n      <td>no</td>\n      <td>no</td>\n      <td>telephone</td>\n      <td>261</td>\n      <td>1</td>\n      <td>0</td>\n      <td>1.1</td>\n      <td>93.994</td>\n      <td>4.857</td>\n      <td>5191.0</td>\n      <td>no</td>\n    </tr>\n    <tr>\n      <th>1</th>\n      <td>57</td>\n      <td>services</td>\n      <td>married</td>\n      <td>high.school</td>\n      <td>no</td>\n      <td>no</td>\n      <td>telephone</td>\n      <td>149</td>\n      <td>1</td>\n      <td>0</td>\n      <td>1.1</td>\n      <td>93.994</td>\n      <td>4.857</td>\n      <td>5191.0</td>\n      <td>no</td>\n    </tr>\n    <tr>\n      <th>2</th>\n      <td>37</td>\n      <td>services</td>\n      <td>married</td>\n      <td>high.school</td>\n      <td>yes</td>\n      <td>no</td>\n      <td>telephone</td>\n      <td>226</td>\n      <td>1</td>\n      <td>0</td>\n      <td>1.1</td>\n      <td>93.994</td>\n      <td>4.857</td>\n      <td>5191.0</td>\n      <td>no</td>\n    </tr>\n    <tr>\n      <th>3</th>\n      <td>40</td>\n      <td>admin.</td>\n      <td>married</td>\n      <td>basic.6y</td>\n      <td>no</td>\n      <td>no</td>\n      <td>telephone</td>\n      <td>151</td>\n      <td>1</td>\n      <td>0</td>\n      <td>1.1</td>\n      <td>93.994</td>\n      <td>4.857</td>\n      <td>5191.0</td>\n      <td>no</td>\n    </tr>\n    <tr>\n      <th>4</th>\n      <td>56</td>\n      <td>services</td>\n      <td>married</td>\n      <td>high.school</td>\n      <td>no</td>\n      <td>yes</td>\n      <td>telephone</td>\n      <td>307</td>\n      <td>1</td>\n      <td>0</td>\n      <td>1.1</td>\n      <td>93.994</td>\n      <td>4.857</td>\n      <td>5191.0</td>\n      <td>no</td>\n    </tr>\n  </tbody>\n</table>\n</div>",
                        "text/plain": "   age        job  marital    education housing loan    contact  duration  \\\n0   56  housemaid  married     basic.4y      no   no  telephone       261   \n1   57   services  married  high.school      no   no  telephone       149   \n2   37   services  married  high.school     yes   no  telephone       226   \n3   40     admin.  married     basic.6y      no   no  telephone       151   \n4   56   services  married  high.school      no  yes  telephone       307   \n\n   campaign  previous  emp.var.rate  cons.price.idx  euribor3m  nr.employed  \\\n0         1         0           1.1          93.994      4.857       5191.0   \n1         1         0           1.1          93.994      4.857       5191.0   \n2         1         0           1.1          93.994      4.857       5191.0   \n3         1         0           1.1          93.994      4.857       5191.0   \n4         1         0           1.1          93.994      4.857       5191.0   \n\n    y  \n0  no  \n1  no  \n2  no  \n3  no  \n4  no  "
                    },
                    "execution_count": 20,
                    "metadata": {},
                    "output_type": "execute_result"
                }
            ],
            "source": "#Select relavent features from dataframe\nfeatures_df = df[['age', 'job', 'marital', 'education', 'housing', 'loan', 'contact', 'duration','campaign', 'previous',\n                  'emp.var.rate','cons.price.idx','euribor3m','nr.employed','y']]\nfeatures_df.head()\n"
        },
        {
            "cell_type": "markdown",
            "metadata": {},
            "source": "### Data Cleaning"
        },
        {
            "cell_type": "code",
            "execution_count": 21,
            "metadata": {
                "scrolled": true
            },
            "outputs": [
                {
                    "data": {
                        "text/plain": "admin.           9937\nblue-collar      8560\ntechnician       6380\nservices         3716\nmanagement       2728\nretired          1577\nentrepreneur     1360\nself-employed    1349\nhousemaid         987\nunemployed        963\nstudent           688\nName: job, dtype: int64"
                    },
                    "execution_count": 21,
                    "metadata": {},
                    "output_type": "execute_result"
                }
            ],
            "source": "# Delete rows with 'unknown' data\nfeatures_df=features_df[features_df['job']!='unknown']\nfeatures_df=features_df[features_df['marital']!='unknown']\nfeatures_df=features_df[features_df['education']!='unknown']\nfeatures_df=features_df[features_df['housing']!='unknown']\nfeatures_df=features_df[features_df['loan']!='unknown']\n\n# Test result to confirm drop of rows with 'unknown'\nfeatures_df['job'].value_counts()"
        },
        {
            "cell_type": "code",
            "execution_count": 22,
            "metadata": {},
            "outputs": [
                {
                    "name": "stdout",
                    "output_type": "stream",
                    "text": "married     23183\nsingle      10760\ndivorced     4302\nName: marital, dtype: int64\nyes    20578\nno     17667\nName: housing, dtype: int64\n"
                }
            ],
            "source": "# Test other results to confirm rows with 'unknown' are dropped completely\nprint (features_df['marital'].value_counts())\nprint (features_df['housing'].value_counts())"
        },
        {
            "cell_type": "code",
            "execution_count": 23,
            "metadata": {},
            "outputs": [
                {
                    "data": {
                        "text/plain": "(38245, 15)"
                    },
                    "execution_count": 23,
                    "metadata": {},
                    "output_type": "execute_result"
                }
            ],
            "source": "# check new data size\nfeatures_df.shape"
        },
        {
            "cell_type": "code",
            "execution_count": 24,
            "metadata": {
                "scrolled": true
            },
            "outputs": [
                {
                    "data": {
                        "text/plain": "Index(['age', 'job', 'marital', 'education', 'housing', 'loan', 'contact',\n       'duration', 'campaign', 'previous', 'emp.var.rate', 'cons.price.idx',\n       'euribor3m', 'nr.employed', 'y'],\n      dtype='object')"
                    },
                    "execution_count": 24,
                    "metadata": {},
                    "output_type": "execute_result"
                }
            ],
            "source": "# Check column names\nfeatures_df.columns"
        },
        {
            "cell_type": "markdown",
            "metadata": {},
            "source": "### Data Conversion from category to numeric"
        },
        {
            "cell_type": "code",
            "execution_count": 25,
            "metadata": {},
            "outputs": [
                {
                    "data": {
                        "text/html": "<div>\n<style scoped>\n    .dataframe tbody tr th:only-of-type {\n        vertical-align: middle;\n    }\n\n    .dataframe tbody tr th {\n        vertical-align: top;\n    }\n\n    .dataframe thead th {\n        text-align: right;\n    }\n</style>\n<table border=\"1\" class=\"dataframe\">\n  <thead>\n    <tr style=\"text-align: right;\">\n      <th></th>\n      <th>age</th>\n      <th>job</th>\n      <th>marital</th>\n      <th>education</th>\n      <th>housing</th>\n      <th>loan</th>\n      <th>contact</th>\n      <th>duration</th>\n      <th>campaign</th>\n      <th>previous</th>\n      <th>emp.var.rate</th>\n      <th>cons.price.idx</th>\n      <th>euribor3m</th>\n      <th>nr.employed</th>\n      <th>y</th>\n    </tr>\n  </thead>\n  <tbody>\n    <tr>\n      <th>0</th>\n      <td>56</td>\n      <td>3</td>\n      <td>1</td>\n      <td>0</td>\n      <td>0</td>\n      <td>0</td>\n      <td>1</td>\n      <td>261</td>\n      <td>1</td>\n      <td>0</td>\n      <td>1.1</td>\n      <td>93.994</td>\n      <td>4.857</td>\n      <td>5191.0</td>\n      <td>no</td>\n    </tr>\n    <tr>\n      <th>1</th>\n      <td>57</td>\n      <td>7</td>\n      <td>1</td>\n      <td>3</td>\n      <td>0</td>\n      <td>0</td>\n      <td>1</td>\n      <td>149</td>\n      <td>1</td>\n      <td>0</td>\n      <td>1.1</td>\n      <td>93.994</td>\n      <td>4.857</td>\n      <td>5191.0</td>\n      <td>no</td>\n    </tr>\n    <tr>\n      <th>2</th>\n      <td>37</td>\n      <td>7</td>\n      <td>1</td>\n      <td>3</td>\n      <td>1</td>\n      <td>0</td>\n      <td>1</td>\n      <td>226</td>\n      <td>1</td>\n      <td>0</td>\n      <td>1.1</td>\n      <td>93.994</td>\n      <td>4.857</td>\n      <td>5191.0</td>\n      <td>no</td>\n    </tr>\n    <tr>\n      <th>3</th>\n      <td>40</td>\n      <td>0</td>\n      <td>1</td>\n      <td>1</td>\n      <td>0</td>\n      <td>0</td>\n      <td>1</td>\n      <td>151</td>\n      <td>1</td>\n      <td>0</td>\n      <td>1.1</td>\n      <td>93.994</td>\n      <td>4.857</td>\n      <td>5191.0</td>\n      <td>no</td>\n    </tr>\n    <tr>\n      <th>4</th>\n      <td>56</td>\n      <td>7</td>\n      <td>1</td>\n      <td>3</td>\n      <td>0</td>\n      <td>1</td>\n      <td>1</td>\n      <td>307</td>\n      <td>1</td>\n      <td>0</td>\n      <td>1.1</td>\n      <td>93.994</td>\n      <td>4.857</td>\n      <td>5191.0</td>\n      <td>no</td>\n    </tr>\n  </tbody>\n</table>\n</div>",
                        "text/plain": "   age  job  marital  education  housing  loan  contact  duration  campaign  \\\n0   56    3        1          0        0     0        1       261         1   \n1   57    7        1          3        0     0        1       149         1   \n2   37    7        1          3        1     0        1       226         1   \n3   40    0        1          1        0     0        1       151         1   \n4   56    7        1          3        0     1        1       307         1   \n\n   previous  emp.var.rate  cons.price.idx  euribor3m  nr.employed   y  \n0         0           1.1          93.994      4.857       5191.0  no  \n1         0           1.1          93.994      4.857       5191.0  no  \n2         0           1.1          93.994      4.857       5191.0  no  \n3         0           1.1          93.994      4.857       5191.0  no  \n4         0           1.1          93.994      4.857       5191.0  no  "
                    },
                    "execution_count": 25,
                    "metadata": {},
                    "output_type": "execute_result"
                }
            ],
            "source": "#Convert category data to numeric data\nle_job = preprocessing.LabelEncoder()\nle_job.fit(features_df['job'].unique())\nfeatures_df['job'] = le_job.transform(features_df['job'])\n\nle_marital = preprocessing.LabelEncoder()\nle_marital.fit(features_df['marital'].unique())\nfeatures_df['marital'] = le_marital.transform(features_df['marital'])\n\nle_education = preprocessing.LabelEncoder()\nle_education.fit(features_df['education'].unique())\nfeatures_df['education'] = le_education.transform(features_df['education'])\n\nle_housing = preprocessing.LabelEncoder()\nle_housing.fit(features_df['housing'].unique())\nfeatures_df['housing'] = le_housing.transform(features_df['housing'])\n\nle_loan = preprocessing.LabelEncoder()\nle_loan.fit(features_df['loan'].unique())\nfeatures_df['loan'] = le_loan.transform(features_df['loan'])\n\nle_contact = preprocessing.LabelEncoder()\nle_contact.fit(features_df['contact'].unique())\nfeatures_df['contact'] = le_contact.transform(features_df['contact'])\n\nfeatures_df.head()\n"
        },
        {
            "cell_type": "code",
            "execution_count": 26,
            "metadata": {},
            "outputs": [
                {
                    "data": {
                        "text/plain": "1    20578\n0    17667\nName: housing, dtype: int64"
                    },
                    "execution_count": 26,
                    "metadata": {},
                    "output_type": "execute_result"
                }
            ],
            "source": "# Double-check conversion result\nfeatures_df['housing'].value_counts()"
        },
        {
            "cell_type": "markdown",
            "metadata": {},
            "source": "### Conrrelation "
        },
        {
            "cell_type": "code",
            "execution_count": 27,
            "metadata": {
                "scrolled": true
            },
            "outputs": [
                {
                    "data": {
                        "text/html": "<div>\n<style scoped>\n    .dataframe tbody tr th:only-of-type {\n        vertical-align: middle;\n    }\n\n    .dataframe tbody tr th {\n        vertical-align: top;\n    }\n\n    .dataframe thead th {\n        text-align: right;\n    }\n</style>\n<table border=\"1\" class=\"dataframe\">\n  <thead>\n    <tr style=\"text-align: right;\">\n      <th></th>\n      <th>age</th>\n      <th>job</th>\n      <th>marital</th>\n      <th>education</th>\n      <th>housing</th>\n      <th>loan</th>\n      <th>contact</th>\n      <th>duration</th>\n      <th>campaign</th>\n      <th>previous</th>\n      <th>emp.var.rate</th>\n      <th>cons.price.idx</th>\n      <th>euribor3m</th>\n      <th>nr.employed</th>\n    </tr>\n  </thead>\n  <tbody>\n    <tr>\n      <th>age</th>\n      <td>1.000000</td>\n      <td>-0.001502</td>\n      <td>-0.393659</td>\n      <td>-0.150247</td>\n      <td>0.000291</td>\n      <td>-0.006390</td>\n      <td>0.005209</td>\n      <td>0.002405</td>\n      <td>0.005519</td>\n      <td>0.028479</td>\n      <td>-0.003563</td>\n      <td>-0.001236</td>\n      <td>0.007695</td>\n      <td>-0.021054</td>\n    </tr>\n    <tr>\n      <th>job</th>\n      <td>-0.001502</td>\n      <td>1.000000</td>\n      <td>0.019210</td>\n      <td>0.135696</td>\n      <td>0.005185</td>\n      <td>-0.012360</td>\n      <td>-0.027273</td>\n      <td>-0.006929</td>\n      <td>-0.006324</td>\n      <td>0.013135</td>\n      <td>-0.003343</td>\n      <td>-0.018548</td>\n      <td>-0.002658</td>\n      <td>-0.010924</td>\n    </tr>\n    <tr>\n      <th>marital</th>\n      <td>-0.393659</td>\n      <td>0.019210</td>\n      <td>1.000000</td>\n      <td>0.118855</td>\n      <td>0.009651</td>\n      <td>0.005221</td>\n      <td>-0.056921</td>\n      <td>0.004178</td>\n      <td>-0.006636</td>\n      <td>0.032242</td>\n      <td>-0.080152</td>\n      <td>-0.057781</td>\n      <td>-0.088133</td>\n      <td>-0.080803</td>\n    </tr>\n    <tr>\n      <th>education</th>\n      <td>-0.150247</td>\n      <td>0.135696</td>\n      <td>0.118855</td>\n      <td>1.000000</td>\n      <td>0.020530</td>\n      <td>0.011180</td>\n      <td>-0.118633</td>\n      <td>-0.017963</td>\n      <td>0.000443</td>\n      <td>0.032765</td>\n      <td>-0.043523</td>\n      <td>-0.097021</td>\n      <td>-0.034473</td>\n      <td>-0.034663</td>\n    </tr>\n    <tr>\n      <th>housing</th>\n      <td>0.000291</td>\n      <td>0.005185</td>\n      <td>0.009651</td>\n      <td>0.020530</td>\n      <td>1.000000</td>\n      <td>0.045077</td>\n      <td>-0.081830</td>\n      <td>-0.009104</td>\n      <td>-0.010817</td>\n      <td>0.020837</td>\n      <td>-0.060675</td>\n      <td>-0.080849</td>\n      <td>-0.059595</td>\n      <td>-0.046513</td>\n    </tr>\n    <tr>\n      <th>loan</th>\n      <td>-0.006390</td>\n      <td>-0.012360</td>\n      <td>0.005221</td>\n      <td>0.011180</td>\n      <td>0.045077</td>\n      <td>1.000000</td>\n      <td>-0.010330</td>\n      <td>0.000280</td>\n      <td>0.003914</td>\n      <td>-0.003268</td>\n      <td>0.002336</td>\n      <td>-0.003146</td>\n      <td>0.000317</td>\n      <td>0.004088</td>\n    </tr>\n    <tr>\n      <th>contact</th>\n      <td>0.005209</td>\n      <td>-0.027273</td>\n      <td>-0.056921</td>\n      <td>-0.118633</td>\n      <td>-0.081830</td>\n      <td>-0.010330</td>\n      <td>1.000000</td>\n      <td>-0.024191</td>\n      <td>0.079099</td>\n      <td>-0.209294</td>\n      <td>0.389324</td>\n      <td>0.592778</td>\n      <td>0.394629</td>\n      <td>0.263361</td>\n    </tr>\n    <tr>\n      <th>duration</th>\n      <td>0.002405</td>\n      <td>-0.006929</td>\n      <td>0.004178</td>\n      <td>-0.017963</td>\n      <td>-0.009104</td>\n      <td>0.000280</td>\n      <td>-0.024191</td>\n      <td>1.000000</td>\n      <td>-0.071110</td>\n      <td>0.016304</td>\n      <td>-0.025003</td>\n      <td>0.007530</td>\n      <td>-0.029029</td>\n      <td>-0.040722</td>\n    </tr>\n    <tr>\n      <th>campaign</th>\n      <td>0.005519</td>\n      <td>-0.006324</td>\n      <td>-0.006636</td>\n      <td>0.000443</td>\n      <td>-0.010817</td>\n      <td>0.003914</td>\n      <td>0.079099</td>\n      <td>-0.071110</td>\n      <td>1.000000</td>\n      <td>-0.078478</td>\n      <td>0.150752</td>\n      <td>0.128665</td>\n      <td>0.134783</td>\n      <td>0.143150</td>\n    </tr>\n    <tr>\n      <th>previous</th>\n      <td>0.028479</td>\n      <td>0.013135</td>\n      <td>0.032242</td>\n      <td>0.032765</td>\n      <td>0.020837</td>\n      <td>-0.003268</td>\n      <td>-0.209294</td>\n      <td>0.016304</td>\n      <td>-0.078478</td>\n      <td>1.000000</td>\n      <td>-0.419647</td>\n      <td>-0.208783</td>\n      <td>-0.450672</td>\n      <td>-0.494617</td>\n    </tr>\n    <tr>\n      <th>emp.var.rate</th>\n      <td>-0.003563</td>\n      <td>-0.003343</td>\n      <td>-0.080152</td>\n      <td>-0.043523</td>\n      <td>-0.060675</td>\n      <td>0.002336</td>\n      <td>0.389324</td>\n      <td>-0.025003</td>\n      <td>0.150752</td>\n      <td>-0.419647</td>\n      <td>1.000000</td>\n      <td>0.775418</td>\n      <td>0.972422</td>\n      <td>0.907920</td>\n    </tr>\n    <tr>\n      <th>cons.price.idx</th>\n      <td>-0.001236</td>\n      <td>-0.018548</td>\n      <td>-0.057781</td>\n      <td>-0.097021</td>\n      <td>-0.080849</td>\n      <td>-0.003146</td>\n      <td>0.592778</td>\n      <td>0.007530</td>\n      <td>0.128665</td>\n      <td>-0.208783</td>\n      <td>0.775418</td>\n      <td>1.000000</td>\n      <td>0.689600</td>\n      <td>0.524272</td>\n    </tr>\n    <tr>\n      <th>euribor3m</th>\n      <td>0.007695</td>\n      <td>-0.002658</td>\n      <td>-0.088133</td>\n      <td>-0.034473</td>\n      <td>-0.059595</td>\n      <td>0.000317</td>\n      <td>0.394629</td>\n      <td>-0.029029</td>\n      <td>0.134783</td>\n      <td>-0.450672</td>\n      <td>0.972422</td>\n      <td>0.689600</td>\n      <td>1.000000</td>\n      <td>0.945336</td>\n    </tr>\n    <tr>\n      <th>nr.employed</th>\n      <td>-0.021054</td>\n      <td>-0.010924</td>\n      <td>-0.080803</td>\n      <td>-0.034663</td>\n      <td>-0.046513</td>\n      <td>0.004088</td>\n      <td>0.263361</td>\n      <td>-0.040722</td>\n      <td>0.143150</td>\n      <td>-0.494617</td>\n      <td>0.907920</td>\n      <td>0.524272</td>\n      <td>0.945336</td>\n      <td>1.000000</td>\n    </tr>\n  </tbody>\n</table>\n</div>",
                        "text/plain": "                     age       job   marital  education   housing      loan  \\\nage             1.000000 -0.001502 -0.393659  -0.150247  0.000291 -0.006390   \njob            -0.001502  1.000000  0.019210   0.135696  0.005185 -0.012360   \nmarital        -0.393659  0.019210  1.000000   0.118855  0.009651  0.005221   \neducation      -0.150247  0.135696  0.118855   1.000000  0.020530  0.011180   \nhousing         0.000291  0.005185  0.009651   0.020530  1.000000  0.045077   \nloan           -0.006390 -0.012360  0.005221   0.011180  0.045077  1.000000   \ncontact         0.005209 -0.027273 -0.056921  -0.118633 -0.081830 -0.010330   \nduration        0.002405 -0.006929  0.004178  -0.017963 -0.009104  0.000280   \ncampaign        0.005519 -0.006324 -0.006636   0.000443 -0.010817  0.003914   \nprevious        0.028479  0.013135  0.032242   0.032765  0.020837 -0.003268   \nemp.var.rate   -0.003563 -0.003343 -0.080152  -0.043523 -0.060675  0.002336   \ncons.price.idx -0.001236 -0.018548 -0.057781  -0.097021 -0.080849 -0.003146   \neuribor3m       0.007695 -0.002658 -0.088133  -0.034473 -0.059595  0.000317   \nnr.employed    -0.021054 -0.010924 -0.080803  -0.034663 -0.046513  0.004088   \n\n                 contact  duration  campaign  previous  emp.var.rate  \\\nage             0.005209  0.002405  0.005519  0.028479     -0.003563   \njob            -0.027273 -0.006929 -0.006324  0.013135     -0.003343   \nmarital        -0.056921  0.004178 -0.006636  0.032242     -0.080152   \neducation      -0.118633 -0.017963  0.000443  0.032765     -0.043523   \nhousing        -0.081830 -0.009104 -0.010817  0.020837     -0.060675   \nloan           -0.010330  0.000280  0.003914 -0.003268      0.002336   \ncontact         1.000000 -0.024191  0.079099 -0.209294      0.389324   \nduration       -0.024191  1.000000 -0.071110  0.016304     -0.025003   \ncampaign        0.079099 -0.071110  1.000000 -0.078478      0.150752   \nprevious       -0.209294  0.016304 -0.078478  1.000000     -0.419647   \nemp.var.rate    0.389324 -0.025003  0.150752 -0.419647      1.000000   \ncons.price.idx  0.592778  0.007530  0.128665 -0.208783      0.775418   \neuribor3m       0.394629 -0.029029  0.134783 -0.450672      0.972422   \nnr.employed     0.263361 -0.040722  0.143150 -0.494617      0.907920   \n\n                cons.price.idx  euribor3m  nr.employed  \nage                  -0.001236   0.007695    -0.021054  \njob                  -0.018548  -0.002658    -0.010924  \nmarital              -0.057781  -0.088133    -0.080803  \neducation            -0.097021  -0.034473    -0.034663  \nhousing              -0.080849  -0.059595    -0.046513  \nloan                 -0.003146   0.000317     0.004088  \ncontact               0.592778   0.394629     0.263361  \nduration              0.007530  -0.029029    -0.040722  \ncampaign              0.128665   0.134783     0.143150  \nprevious             -0.208783  -0.450672    -0.494617  \nemp.var.rate          0.775418   0.972422     0.907920  \ncons.price.idx        1.000000   0.689600     0.524272  \neuribor3m             0.689600   1.000000     0.945336  \nnr.employed           0.524272   0.945336     1.000000  "
                    },
                    "execution_count": 27,
                    "metadata": {},
                    "output_type": "execute_result"
                }
            ],
            "source": "features_df.corr()"
        },
        {
            "cell_type": "markdown",
            "metadata": {},
            "source": "##### No multilinearity is found between features.\n====="
        },
        {
            "cell_type": "markdown",
            "metadata": {},
            "source": "### Prepare feature matrix"
        },
        {
            "cell_type": "code",
            "execution_count": 28,
            "metadata": {
                "scrolled": true
            },
            "outputs": [
                {
                    "data": {
                        "text/plain": "array([[5.6000e+01, 3.0000e+00, 1.0000e+00, 0.0000e+00, 0.0000e+00,\n        0.0000e+00, 1.0000e+00, 2.6100e+02, 1.0000e+00, 0.0000e+00,\n        1.1000e+00, 9.3994e+01, 4.8570e+00, 5.1910e+03],\n       [5.7000e+01, 7.0000e+00, 1.0000e+00, 3.0000e+00, 0.0000e+00,\n        0.0000e+00, 1.0000e+00, 1.4900e+02, 1.0000e+00, 0.0000e+00,\n        1.1000e+00, 9.3994e+01, 4.8570e+00, 5.1910e+03],\n       [3.7000e+01, 7.0000e+00, 1.0000e+00, 3.0000e+00, 1.0000e+00,\n        0.0000e+00, 1.0000e+00, 2.2600e+02, 1.0000e+00, 0.0000e+00,\n        1.1000e+00, 9.3994e+01, 4.8570e+00, 5.1910e+03]])"
                    },
                    "execution_count": 28,
                    "metadata": {},
                    "output_type": "execute_result"
                }
            ],
            "source": "# Build feature matrix X\nfeatures=['age', 'job', 'marital', 'education', 'housing', 'loan','contact', 'duration','campaign',\n       'previous','emp.var.rate','cons.price.idx','euribor3m','nr.employed']\nX = features_df[features].values\nX[0:3]"
        },
        {
            "cell_type": "markdown",
            "metadata": {},
            "source": "### Prepare responce vector"
        },
        {
            "cell_type": "code",
            "execution_count": 29,
            "metadata": {},
            "outputs": [
                {
                    "data": {
                        "text/plain": "array(['no', 'no', 'no', 'no', 'no'], dtype=object)"
                    },
                    "execution_count": 29,
                    "metadata": {},
                    "output_type": "execute_result"
                }
            ],
            "source": "# Build reasponse vector y\ny=features_df['y'].values\ny[0:5]"
        },
        {
            "cell_type": "markdown",
            "metadata": {},
            "source": "### Normalization"
        },
        {
            "cell_type": "code",
            "execution_count": 30,
            "metadata": {
                "scrolled": false
            },
            "outputs": [
                {
                    "data": {
                        "text/plain": "array([[ 1.56852703, -0.18358553, -0.27937595, -1.74878192, -1.07924533,\n        -0.42961513,  1.33062908,  0.01074878, -0.56610584, -0.34897798,\n         0.64954574,  0.73510905,  0.71303876,  0.32842297],\n       [ 1.66571486,  0.94147615, -0.27937595, -0.29635844, -1.07924533,\n        -0.42961513,  1.33062908, -0.42036992, -0.56610584, -0.34897798,\n         0.64954574,  0.73510905,  0.71303876,  0.32842297],\n       [-0.27804183,  0.94147615, -0.27937595, -0.29635844,  0.92657339,\n        -0.42961513,  1.33062908, -0.12397581, -0.56610584, -0.34897798,\n         0.64954574,  0.73510905,  0.71303876,  0.32842297]])"
                    },
                    "execution_count": 30,
                    "metadata": {},
                    "output_type": "execute_result"
                }
            ],
            "source": "# Preprocessing - normalizaion\nX = preprocessing.StandardScaler().fit(X).transform(X)\nX[0:3]"
        },
        {
            "cell_type": "markdown",
            "metadata": {},
            "source": "## Modeling"
        },
        {
            "cell_type": "markdown",
            "metadata": {},
            "source": "### Split training and test data"
        },
        {
            "cell_type": "code",
            "execution_count": 31,
            "metadata": {},
            "outputs": [
                {
                    "name": "stdout",
                    "output_type": "stream",
                    "text": "Train set: (30596, 14) (30596,)\nTest set: (7649, 14) (7649,)\n"
                }
            ],
            "source": "# Modeling - Split dataset to training data and test data\nfrom sklearn.model_selection import train_test_split\nX_train, X_test, y_train, y_test = train_test_split( X, y, test_size=0.2, random_state=4)\nprint ('Train set:', X_train.shape,  y_train.shape)\nprint ('Test set:', X_test.shape,  y_test.shape)"
        },
        {
            "cell_type": "markdown",
            "metadata": {},
            "source": "### Logistic Regression - LR"
        },
        {
            "cell_type": "code",
            "execution_count": 32,
            "metadata": {},
            "outputs": [
                {
                    "name": "stdout",
                    "output_type": "stream",
                    "text": "LR:  LogisticRegression(C=0.01, class_weight=None, dual=False, fit_intercept=True,\n          intercept_scaling=1, max_iter=100, multi_class='warn',\n          n_jobs=None, penalty='l2', random_state=None, solver='liblinear',\n          tol=0.0001, verbose=0, warm_start=False)\n"
                }
            ],
            "source": "# Modeling - Logistic Regression\nfrom sklearn.linear_model import LogisticRegression\nfrom sklearn.metrics import confusion_matrix\nLR = LogisticRegression(C=0.01, solver='liblinear').fit(X_train,y_train)\nprint('LR: ', LR)"
        },
        {
            "cell_type": "code",
            "execution_count": 33,
            "metadata": {},
            "outputs": [
                {
                    "name": "stdout",
                    "output_type": "stream",
                    "text": "Coefficients: \n [['0.08877559269896103' 'age']\n ['0.03885583278457843' 'job']\n ['0.06720428589870893' 'marital']\n ['0.15073836013898387' 'education']\n ['-0.0060387236386783534' 'housing']\n ['-0.01723876331647282' 'loan']\n ['-0.24249027569138357' 'contact']\n ['1.0368976390992644' 'duration']\n ['-0.0755299287669983' 'campaign']\n ['0.0774582696407493' 'previous']\n ['-0.5233466928147501' 'emp.var.rate']\n ['0.17830378041001232' 'cons.price.idx']\n ['0.28144231220072646' 'euribor3m']\n ['-0.7653919804175112' 'nr.employed']]\n"
                }
            ],
            "source": "myarray=[]\nfea=np.asarray(features)\nmyarray=np.append(LR.coef_.transpose(),np.vstack(fea),axis=1)\nprint('Coefficients: \\n',myarray)"
        },
        {
            "cell_type": "markdown",
            "metadata": {},
            "source": "## ITERATION TWO -  FEATURE REDUCTION"
        },
        {
            "cell_type": "markdown",
            "metadata": {},
            "source": "#### The 'duration' feature is highly correlated to the outcome with the highest coeficent (1.04). However, since the duration of the call is not known during precition, it should be dropped when building prediction model. Once the call is made and the duration is known, it can be used for benchmark with prediction."
        },
        {
            "cell_type": "code",
            "execution_count": 34,
            "metadata": {},
            "outputs": [
                {
                    "data": {
                        "text/plain": "array([[5.6000e+01, 3.0000e+00, 1.0000e+00, 0.0000e+00, 0.0000e+00,\n        0.0000e+00, 1.0000e+00, 1.0000e+00, 0.0000e+00, 1.1000e+00,\n        9.3994e+01, 4.8570e+00, 5.1910e+03],\n       [5.7000e+01, 7.0000e+00, 1.0000e+00, 3.0000e+00, 0.0000e+00,\n        0.0000e+00, 1.0000e+00, 1.0000e+00, 0.0000e+00, 1.1000e+00,\n        9.3994e+01, 4.8570e+00, 5.1910e+03],\n       [3.7000e+01, 7.0000e+00, 1.0000e+00, 3.0000e+00, 1.0000e+00,\n        0.0000e+00, 1.0000e+00, 1.0000e+00, 0.0000e+00, 1.1000e+00,\n        9.3994e+01, 4.8570e+00, 5.1910e+03]])"
                    },
                    "execution_count": 34,
                    "metadata": {},
                    "output_type": "execute_result"
                }
            ],
            "source": "# Preprocessing\n# Rebuild feature matrix X dropping 'duration'\nfeatures=['age', 'job', 'marital', 'education', 'housing', 'loan','contact', 'campaign',\n       'previous','emp.var.rate','cons.price.idx','euribor3m','nr.employed']\nX = features_df[features].values\nX[0:3]"
        },
        {
            "cell_type": "code",
            "execution_count": 35,
            "metadata": {},
            "outputs": [
                {
                    "data": {
                        "text/plain": "array([[ 1.56852703, -0.18358553, -0.27937595, -1.74878192, -1.07924533,\n        -0.42961513,  1.33062908, -0.56610584, -0.34897798,  0.64954574,\n         0.73510905,  0.71303876,  0.32842297],\n       [ 1.66571486,  0.94147615, -0.27937595, -0.29635844, -1.07924533,\n        -0.42961513,  1.33062908, -0.56610584, -0.34897798,  0.64954574,\n         0.73510905,  0.71303876,  0.32842297],\n       [-0.27804183,  0.94147615, -0.27937595, -0.29635844,  0.92657339,\n        -0.42961513,  1.33062908, -0.56610584, -0.34897798,  0.64954574,\n         0.73510905,  0.71303876,  0.32842297]])"
                    },
                    "execution_count": 35,
                    "metadata": {},
                    "output_type": "execute_result"
                }
            ],
            "source": "# Preprocessing - normalizaion\nX = preprocessing.StandardScaler().fit(X).transform(X)\nX[0:3]"
        },
        {
            "cell_type": "code",
            "execution_count": 36,
            "metadata": {},
            "outputs": [
                {
                    "name": "stdout",
                    "output_type": "stream",
                    "text": "Train set: (30596, 13) (30596,)\nTest set: (7649, 13) (7649,)\n"
                }
            ],
            "source": "# Modeling - Split dataset to training data and test data\nX_train, X_test, y_train, y_test = train_test_split( X, y, test_size=0.2, random_state=4)\nprint ('Train set:', X_train.shape,  y_train.shape)\nprint ('Test set:', X_test.shape,  y_test.shape)"
        },
        {
            "cell_type": "code",
            "execution_count": 37,
            "metadata": {},
            "outputs": [
                {
                    "name": "stdout",
                    "output_type": "stream",
                    "text": "LR:  LogisticRegression(C=0.01, class_weight=None, dual=False, fit_intercept=True,\n          intercept_scaling=1, max_iter=100, multi_class='warn',\n          n_jobs=None, penalty='l2', random_state=None, solver='liblinear',\n          tol=0.0001, verbose=0, warm_start=False)\nCoefficients: \n [['0.0804384010650379' 'age']\n ['0.02710731055911906' 'job']\n ['0.05254675288238117' 'marital']\n ['0.1056261329953241' 'education']\n ['-0.0169883645945662' 'housing']\n ['-0.011343881285392486' 'loan']\n ['-0.2845223862209782' 'contact']\n ['-0.10330907691658837' 'campaign']\n ['0.06190946794482432' 'previous']\n ['-0.5017805123305146' 'emp.var.rate']\n ['0.23400548488546138' 'cons.price.idx']\n ['0.3284072622204078' 'euribor3m']\n ['-0.6923956181930065' 'nr.employed']]\n"
                }
            ],
            "source": "# Modeling - Logistic Regression\nLR = LogisticRegression(C=0.01, solver='liblinear').fit(X_train,y_train)\nprint('LR: ', LR)\n\nmyarray=[]\nfea=np.asarray(features)\nmyarray=np.append(LR.coef_.transpose(),np.vstack(fea),axis=1)\nprint('Coefficients: \\n',myarray)\n"
        },
        {
            "cell_type": "code",
            "execution_count": 38,
            "metadata": {},
            "outputs": [
                {
                    "data": {
                        "text/plain": "array(['no', 'no', 'no', 'no', 'no'], dtype=object)"
                    },
                    "execution_count": 38,
                    "metadata": {},
                    "output_type": "execute_result"
                }
            ],
            "source": "# Prediction\nyhat = LR.predict(X_test)\nyhat[0:5]"
        },
        {
            "cell_type": "markdown",
            "metadata": {},
            "source": "# Evaluation"
        },
        {
            "cell_type": "markdown",
            "metadata": {},
            "source": "#### Similarity Score"
        },
        {
            "cell_type": "code",
            "execution_count": 39,
            "metadata": {},
            "outputs": [
                {
                    "data": {
                        "text/plain": "0.8946267485945876"
                    },
                    "execution_count": 39,
                    "metadata": {},
                    "output_type": "execute_result"
                }
            ],
            "source": "# Calculate the similarity score between the model prediction and the actural result\nfrom sklearn.metrics import jaccard_similarity_score\njaccard_similarity_score(y_test, yhat)"
        },
        {
            "cell_type": "markdown",
            "metadata": {},
            "source": "#### Confusion Matrix"
        },
        {
            "cell_type": "code",
            "execution_count": 40,
            "metadata": {},
            "outputs": [],
            "source": "# Use confusion matrix to check accuracy of the prediction\n# First define a function for plotting confusion matrix\nfrom sklearn.metrics import classification_report, confusion_matrix\nimport itertools\ndef plot_confusion_matrix(cm, classes,\n                          normalize=False,\n                          title='Confusion matrix',\n                          cmap=plt.cm.Blues):\n    \"\"\"\n    This function prints and plots the confusion matrix.\n    Normalization can be applied by setting `normalize=True`.\n    \"\"\"\n    if normalize:\n        cm = cm.astype('float') / cm.sum(axis=1)[:, np.newaxis]\n        print(\"Normalized confusion matrix\")\n    else:\n        print('Confusion matrix, without normalization')\n\n    print(cm)\n\n    plt.imshow(cm, interpolation='nearest', cmap=cmap)\n    plt.title(title)\n    plt.colorbar()\n    tick_marks = np.arange(len(classes))\n    plt.xticks(tick_marks, classes, rotation=45)\n    plt.yticks(tick_marks, classes)\n\n    fmt = '.2f' if normalize else 'd'\n    thresh = cm.max() / 2.\n    for i, j in itertools.product(range(cm.shape[0]), range(cm.shape[1])):\n        plt.text(j, i, format(cm[i, j], fmt),\n                 horizontalalignment=\"center\",\n                 color=\"white\" if cm[i, j] > thresh else \"black\")\n\n    plt.tight_layout()\n    plt.ylabel('True label')\n    plt.xlabel('Predicted label')\n"
        },
        {
            "cell_type": "code",
            "execution_count": 41,
            "metadata": {
                "scrolled": true
            },
            "outputs": [
                {
                    "name": "stdout",
                    "output_type": "stream",
                    "text": "Confusion matrix, without normalization\n[[  94  740]\n [  66 6749]]\n"
                },
                {
                    "data": {
                        "image/png": "[encoded data removed]",
                        "text/plain": "<Figure size 432x288 with 2 Axes>"
                    },
                    "metadata": {
                        "needs_background": "light"
                    },
                    "output_type": "display_data"
                }
            ],
            "source": "# Plot non-normalized confusion matrix\ncnf_mat=confusion_matrix(y_test, yhat, labels=['yes','no'])\nplt.figure()\nplot_confusion_matrix(cnf_mat, classes=['subscribe=yes','subscribe=no'],normalize= False,  title='Confusion matrix')"
        },
        {
            "cell_type": "markdown",
            "metadata": {},
            "source": "#### Probability Prediction"
        },
        {
            "cell_type": "code",
            "execution_count": 42,
            "metadata": {},
            "outputs": [
                {
                    "data": {
                        "text/plain": "array([[0.95772074, 0.04227926],\n       [0.92601755, 0.07398245],\n       [0.92508374, 0.07491626],\n       [0.83564063, 0.16435937],\n       [0.95815162, 0.04184838]])"
                    },
                    "execution_count": 42,
                    "metadata": {},
                    "output_type": "execute_result"
                }
            ],
            "source": "# Predicting probability of class = 0: no_subscribe\nyhat_prob = LR.predict_proba(X_test)\nyhat_prob[0:5]"
        },
        {
            "cell_type": "markdown",
            "metadata": {},
            "source": "#### Log Loss"
        },
        {
            "cell_type": "code",
            "execution_count": 43,
            "metadata": {},
            "outputs": [
                {
                    "name": "stdout",
                    "output_type": "stream",
                    "text": "Log loss:  0.283540483049856\n"
                }
            ],
            "source": "from sklearn.metrics import log_loss\nprint('Log loss: ', log_loss(y_test, yhat_prob))"
        },
        {
            "cell_type": "code",
            "execution_count": 44,
            "metadata": {},
            "outputs": [
                {
                    "name": "stdout",
                    "output_type": "stream",
                    "text": "              precision    recall  f1-score   support\n\n          no       0.90      0.99      0.94      6815\n         yes       0.59      0.11      0.19       834\n\n   micro avg       0.89      0.89      0.89      7649\n   macro avg       0.74      0.55      0.57      7649\nweighted avg       0.87      0.89      0.86      7649\n\n"
                }
            ],
            "source": "print (classification_report(y_test, yhat))"
        },
        {
            "cell_type": "markdown",
            "metadata": {},
            "source": "##### The F1-score for 'yes' is very low\n====="
        },
        {
            "cell_type": "markdown",
            "metadata": {},
            "source": "## Improving prediction of 'yes' with undersampling\n#### Although the similarity score is high (0.89), the 'true-positive' prediction was very low (94/834). In another word, too much false negative. This might  be due to the imbalance of classes. Since we do not want to miss prediction of potential subscribers, we will invest further to refine our model to reduce false negative."
        },
        {
            "cell_type": "code",
            "execution_count": 45,
            "metadata": {
                "scrolled": true
            },
            "outputs": [
                {
                    "data": {
                        "text/plain": "(array(['no', 'yes'], dtype=object), array([27172,  3424]))"
                    },
                    "execution_count": 45,
                    "metadata": {},
                    "output_type": "execute_result"
                }
            ],
            "source": "#Check imbalance of outcome\nnp.unique(y_train, return_counts=True)"
        },
        {
            "cell_type": "markdown",
            "metadata": {},
            "source": "##### Outcome 'y' is very imbalanced, with 27172 'no' and only 3424 'yes'\n====="
        },
        {
            "cell_type": "markdown",
            "metadata": {},
            "source": "## ITERATION THREE"
        },
        {
            "cell_type": "markdown",
            "metadata": {},
            "source": "## Undersampling of majority class"
        },
        {
            "cell_type": "code",
            "execution_count": 46,
            "metadata": {
                "scrolled": true
            },
            "outputs": [
                {
                    "data": {
                        "text/plain": "array([[-1.05554450429166, 1.504006991585692, 1.375119769359303,\n        1.15606503451636, 0.9265733887433735, -0.4296151337007942,\n        -0.7515242343183673, -0.5661058387202299, -0.3489779782128322,\n        -1.9048560583752383, -1.910810711274577, -1.4820792663974103,\n        -1.2713675618613698, 'no'],\n       [0.985400020159377, -1.0273817948067208, -0.27937595465197657,\n        -0.7804996032602679, -1.0792453270821951, -0.4296151337007942,\n        -0.7515242343183673, 1.2406199487737364, -0.3489779782128322,\n        -1.202395564177621, -1.175158266534083, -1.327184155460759,\n        -0.952245582376561, 'no'],\n       [-0.375229662807981, 0.09767988803435165, -0.27937595465197657,\n        1.15606503451636, -1.0792453270821951, -0.4296151337007942,\n        -0.7515242343183673, -0.20476068122143667, 1.7037231563226596,\n        -0.11677480041766677, -0.6425042558375079, 0.26164666530362224,\n        0.39531316942170125, 'no']], dtype=object)"
                    },
                    "execution_count": 46,
                    "metadata": {},
                    "output_type": "execute_result"
                }
            ],
            "source": "# The training data is very imbalanced with much more 'no's than 'yes's\n# we will undersample 'no's to rebalance training data\n\n# First concatenate training data back together\nX_new=np.column_stack((X_train, y_train))\nX_new[0:3]\n"
        },
        {
            "cell_type": "code",
            "execution_count": 47,
            "metadata": {},
            "outputs": [],
            "source": "# separate minority and majority classes\nno_subscribe = X_new[X_new[:,13]=='no']\nsubscribe = X_new[X_new[:,13]=='yes']"
        },
        {
            "cell_type": "code",
            "execution_count": 48,
            "metadata": {
                "scrolled": true
            },
            "outputs": [
                {
                    "data": {
                        "text/plain": "(array(['no', 'yes'], dtype=object), array([3424, 3424]))"
                    },
                    "execution_count": 48,
                    "metadata": {},
                    "output_type": "execute_result"
                }
            ],
            "source": "# Downsample majority to equal to minority\nfrom sklearn.utils import resample\nno_subscribe_downsampled = resample(no_subscribe,\n                                replace = False,\n                                n_samples = len(subscribe), # match minority length\n                                random_state = 4)\n\n# combine minority and downsampled majority\ndownsampled = np.concatenate((no_subscribe_downsampled, subscribe), axis=0)\n\n# checking counts\ndownsampled_ct=np.unique(downsampled[:,13], return_counts=True)\ndownsampled_ct\n"
        },
        {
            "cell_type": "markdown",
            "metadata": {},
            "source": "#### Define downsampled training data"
        },
        {
            "cell_type": "code",
            "execution_count": 49,
            "metadata": {},
            "outputs": [
                {
                    "data": {
                        "text/plain": "array([[1.8600905306383928, 0.37894530874461974, -0.27937595465197657,\n        -1.7487819221485819, 0.9265733887433735, -0.4296151337007942,\n        1.330629079323038, 0.15658447627735658, -0.3489779782128322,\n        0.841125873488175, 1.552307872928393, 0.7725693446618296,\n        0.845428450529087],\n       [0.5966486821687033, 0.6602107294548878, -1.933871678663256,\n        -0.7804996032602679, -1.0792453270821951, -0.4296151337007942,\n        -0.7515242343183673, -0.5661058387202299, -0.3489779782128322,\n        -0.11677480041766677, -0.6425042558375079, 0.26164666530362224,\n        0.39531316942170125],\n       [-1.1527323387893285, -0.7461163740964526, -0.27937595465197657,\n        -0.7804996032602679, 0.9265733887433735, -0.4296151337007942,\n        -0.7515242343183673, -0.20476068122143667, -0.3489779782128322,\n        -1.202395564177621, -1.175158266534083, -1.3433672267526482,\n        -0.952245582376561]], dtype=object)"
                    },
                    "execution_count": 49,
                    "metadata": {},
                    "output_type": "execute_result"
                }
            ],
            "source": "# Use downsample data set as new training data\nXX_train=downsampled[:,0:13]\nXX_train[0:3]"
        },
        {
            "cell_type": "code",
            "execution_count": 50,
            "metadata": {},
            "outputs": [
                {
                    "data": {
                        "text/plain": "array(['no', 'no', 'no', 'no', 'no'], dtype=object)"
                    },
                    "execution_count": 50,
                    "metadata": {},
                    "output_type": "execute_result"
                }
            ],
            "source": "yy_train=downsampled[:,13]\nyy_train[0:5]"
        },
        {
            "cell_type": "markdown",
            "metadata": {},
            "source": "## Modeling - LR2 (using downsampled training data)"
        },
        {
            "cell_type": "code",
            "execution_count": 51,
            "metadata": {
                "scrolled": true
            },
            "outputs": [
                {
                    "name": "stdout",
                    "output_type": "stream",
                    "text": "LR2:  LogisticRegression(C=0.01, class_weight=None, dual=False, fit_intercept=True,\n          intercept_scaling=1, max_iter=100, multi_class='warn',\n          n_jobs=None, penalty='l2', random_state=None, solver='liblinear',\n          tol=0.0001, verbose=0, warm_start=False)\nCoefficients: \n [['0.09520409399839191' 'age']\n ['0.027318967407053862' 'job']\n ['0.07891339039402787' 'marital']\n ['0.12939174783090618' 'education']\n ['-0.02424751915956119' 'housing']\n ['-0.0362201015640216' 'loan']\n ['-0.2646411849557297' 'contact']\n ['-0.1075964237317929' 'campaign']\n ['0.07878265337473209' 'previous']\n ['-0.3598760687785813' 'emp.var.rate']\n ['0.21944616987444027' 'cons.price.idx']\n ['0.0770261170291765' 'euribor3m']\n ['-0.5269003814970219' 'nr.employed']]\n"
                }
            ],
            "source": "# Modeling - LR2\nLR2 = LogisticRegression(C=0.01, solver='liblinear').fit(XX_train,yy_train)\nprint('LR2: ', LR2)\nmyarray=[]\nfea=np.asarray(features)\nmyarray=np.append(LR2.coef_.transpose(),np.vstack(fea),axis=1)\nprint('Coefficients: \\n', myarray)\n"
        },
        {
            "cell_type": "markdown",
            "metadata": {},
            "source": "## Prediction"
        },
        {
            "cell_type": "code",
            "execution_count": 52,
            "metadata": {},
            "outputs": [
                {
                    "data": {
                        "text/plain": "array(['no', 'no', 'no', 'yes', 'no'], dtype=object)"
                    },
                    "execution_count": 52,
                    "metadata": {},
                    "output_type": "execute_result"
                }
            ],
            "source": "# Prediction\nyyhat = LR2.predict(X_test)\nyyhat[0:5]"
        },
        {
            "cell_type": "markdown",
            "metadata": {},
            "source": "## Evaluation"
        },
        {
            "cell_type": "markdown",
            "metadata": {},
            "source": "#### Similarity Score"
        },
        {
            "cell_type": "code",
            "execution_count": 53,
            "metadata": {
                "scrolled": true
            },
            "outputs": [
                {
                    "data": {
                        "text/plain": "0.7385279121453785"
                    },
                    "execution_count": 53,
                    "metadata": {},
                    "output_type": "execute_result"
                }
            ],
            "source": "# Calculate the accuracy score of the model prediction \njaccard_similarity_score(y_test, yyhat)"
        },
        {
            "cell_type": "markdown",
            "metadata": {},
            "source": "#### Confusion matrix"
        },
        {
            "cell_type": "code",
            "execution_count": 54,
            "metadata": {},
            "outputs": [
                {
                    "name": "stdout",
                    "output_type": "stream",
                    "text": "Confusion matrix, without normalization\n[[ 595  239]\n [1761 5054]]\n"
                },
                {
                    "data": {
                        "image/png": "[encoded data removed]",
                        "text/plain": "<Figure size 432x288 with 2 Axes>"
                    },
                    "metadata": {
                        "needs_background": "light"
                    },
                    "output_type": "display_data"
                }
            ],
            "source": "# Use confusion matrix to check accuracy of the prediction\n# Plot non-normalized confusion matrix\ncnf_mat=confusion_matrix(y_test, yyhat, labels=['yes','no'])\nplt.figure()\nplot_confusion_matrix(cnf_mat, classes=['subscribe=yes','subscribe=no'],normalize= False,  title='Confusion matrix')"
        },
        {
            "cell_type": "markdown",
            "metadata": {},
            "source": "#### Probability"
        },
        {
            "cell_type": "code",
            "execution_count": 55,
            "metadata": {},
            "outputs": [
                {
                    "data": {
                        "text/plain": "array([[0.74750563, 0.25249437],\n       [0.60949353, 0.39050647],\n       [0.61200023, 0.38799977],\n       [0.41731084, 0.58268916],\n       [0.75851762, 0.24148238]])"
                    },
                    "execution_count": 55,
                    "metadata": {},
                    "output_type": "execute_result"
                }
            ],
            "source": "# Predicting probability ['no','yes']\nyyhat_prob = LR2.predict_proba(X_test)\nyyhat_prob[0:5]"
        },
        {
            "cell_type": "markdown",
            "metadata": {},
            "source": "#### Log loss"
        },
        {
            "cell_type": "code",
            "execution_count": 56,
            "metadata": {},
            "outputs": [
                {
                    "data": {
                        "text/plain": "0.5620712033856957"
                    },
                    "execution_count": 56,
                    "metadata": {},
                    "output_type": "execute_result"
                }
            ],
            "source": "log_loss(y_test, yyhat_prob)"
        },
        {
            "cell_type": "code",
            "execution_count": 57,
            "metadata": {
                "scrolled": false
            },
            "outputs": [
                {
                    "name": "stdout",
                    "output_type": "stream",
                    "text": "              precision    recall  f1-score   support\n\n          no       0.95      0.74      0.83      6815\n         yes       0.25      0.71      0.37       834\n\n   micro avg       0.74      0.74      0.74      7649\n   macro avg       0.60      0.73      0.60      7649\nweighted avg       0.88      0.74      0.78      7649\n\n"
                }
            ],
            "source": "print (classification_report(y_test, yyhat))"
        },
        {
            "cell_type": "code",
            "execution_count": 58,
            "metadata": {},
            "outputs": [
                {
                    "data": {
                        "image/png": "[encoded data removed]",
                        "text/plain": "<Figure size 432x288 with 1 Axes>"
                    },
                    "metadata": {
                        "needs_background": "light"
                    },
                    "output_type": "display_data"
                }
            ],
            "source": "# Plot ROC curve\nfpr, tpr, thresholds = metrics.roc_curve(y_test,  yyhat_prob[:,1],pos_label='yes')\nauc = metrics.roc_auc_score(y_test, yyhat_prob[:,1])\nplt.plot(fpr,tpr,label=\"data = 'yes', auc=\"+str(round(auc,4)))\nplt.plot([0, 1], [0, 1],'r--')\nplt.title('ROC Curve')\nplt.legend(loc=4)\nplt.show()"
        },
        {
            "cell_type": "code",
            "execution_count": 59,
            "metadata": {},
            "outputs": [
                {
                    "data": {
                        "text/plain": "(array(['no', 'yes'], dtype=object), array([6815,  834]))"
                    },
                    "execution_count": 59,
                    "metadata": {},
                    "output_type": "execute_result"
                }
            ],
            "source": "np.unique(y_test,return_counts=True)"
        },
        {
            "cell_type": "markdown",
            "metadata": {},
            "source": "###  Result:  'yes' prediction was improved\n##### Although LR2 (using the undersampling method) produced lower similarity score (0.73 vs. 0.89) with higher log loss compared to LR, it increase the accuracy of predicting subscriber (595/834 vs 94/834). Under time constraint, reducing false negative is the main goal for this data modeling exercise. From a business point of view, we do not want to miss the prediction of a potential subscriber (customer). So the second model LR2 (using undersampling) improved the prediction result. \n=====\n"
        },
        {
            "cell_type": "markdown",
            "metadata": {},
            "source": "## ITERATION FOUR"
        },
        {
            "cell_type": "markdown",
            "metadata": {},
            "source": "## Investigate if there is overfitting in the model"
        },
        {
            "cell_type": "code",
            "execution_count": 60,
            "metadata": {},
            "outputs": [
                {
                    "data": {
                        "text/plain": "array(['no', 'no', 'yes', 'no', 'no'], dtype=object)"
                    },
                    "execution_count": 60,
                    "metadata": {},
                    "output_type": "execute_result"
                }
            ],
            "source": "# First test accuracy using training data\nyyhat_train=LR2.predict(XX_train)\nyyhat_train[0:5]"
        },
        {
            "cell_type": "code",
            "execution_count": 61,
            "metadata": {},
            "outputs": [
                {
                    "name": "stdout",
                    "output_type": "stream",
                    "text": "Confusion matrix, without normalization\n[[2369 1055]\n [ 969 2455]]\n"
                },
                {
                    "data": {
                        "image/png": "[encoded data removed]",
                        "text/plain": "<Figure size 432x288 with 2 Axes>"
                    },
                    "metadata": {
                        "needs_background": "light"
                    },
                    "output_type": "display_data"
                }
            ],
            "source": "cnf_mat=confusion_matrix(yy_train, yyhat_train, labels=['yes','no'])\nplt.figure()\nplot_confusion_matrix(cnf_mat, classes=['subscribe=yes','subscribe=no'],normalize= False,  title='Confusion matrix')"
        },
        {
            "cell_type": "code",
            "execution_count": 62,
            "metadata": {
                "scrolled": false
            },
            "outputs": [
                {
                    "name": "stdout",
                    "output_type": "stream",
                    "text": "              precision    recall  f1-score   support\n\n          no       0.70      0.72      0.71      3424\n         yes       0.71      0.69      0.70      3424\n\n   micro avg       0.70      0.70      0.70      6848\n   macro avg       0.70      0.70      0.70      6848\nweighted avg       0.70      0.70      0.70      6848\n\n"
                }
            ],
            "source": "print (classification_report(yy_train, yyhat_train))"
        },
        {
            "cell_type": "markdown",
            "metadata": {},
            "source": "##### Overall precision is improved. However there is no observation of higher accuracy of predicting 'True Positive' by using training data. This can be an indicator that there is no overfitting issue. However, we can complete the investigation by reducing low-impact features."
        },
        {
            "cell_type": "markdown",
            "metadata": {},
            "source": "#### Further feature reduction"
        },
        {
            "cell_type": "code",
            "execution_count": 63,
            "metadata": {},
            "outputs": [
                {
                    "name": "stdout",
                    "output_type": "stream",
                    "text": "Coefficients: \n [['0.09520409399839191' 'age']\n ['0.027318967407053862' 'job']\n ['0.07891339039402787' 'marital']\n ['0.12939174783090618' 'education']\n ['-0.02424751915956119' 'housing']\n ['-0.0362201015640216' 'loan']\n ['-0.2646411849557297' 'contact']\n ['-0.1075964237317929' 'campaign']\n ['0.07878265337473209' 'previous']\n ['-0.3598760687785813' 'emp.var.rate']\n ['0.21944616987444027' 'cons.price.idx']\n ['0.0770261170291765' 'euribor3m']\n ['-0.5269003814970219' 'nr.employed']]\n"
                }
            ],
            "source": "print('Coefficients: \\n',myarray)"
        },
        {
            "cell_type": "code",
            "execution_count": 64,
            "metadata": {},
            "outputs": [
                {
                    "name": "stdout",
                    "output_type": "stream",
                    "text": "Train set: (30596, 5) (30596,)\nTest set: (7649, 5) (7649,)\n"
                }
            ],
            "source": "#'housing', 'loan', 'euribor3m' have very low coefficent. They can be dropped from the list of features. \n# Furthermore, We can keep only first 5 features with the highest conefficent.\nX = features_df[['education', 'contact','campaign',\n       'emp.var.rate','nr.employed']].values  # reduce features\nX = preprocessing.StandardScaler().fit(X).transform(X)  #Normalize\nX_train, X_test, y_train, y_test = train_test_split( X, y, test_size=0.2, random_state=4)  # Train-Test split\nprint ('Train set:', X_train.shape,  y_train.shape)\nprint ('Test set:', X_test.shape,  y_test.shape)"
        },
        {
            "cell_type": "code",
            "execution_count": 65,
            "metadata": {},
            "outputs": [
                {
                    "data": {
                        "text/plain": "(array(['no', 'yes'], dtype=object), array([3424, 3424]))"
                    },
                    "execution_count": 65,
                    "metadata": {},
                    "output_type": "execute_result"
                }
            ],
            "source": "# Undersampling\nX_new=np.column_stack((X_train, y_train))\nno_subscribe = X_new[X_new[:,5]=='no']\nsubscribe = X_new[X_new[:,5]=='yes']\nno_subscribe_downsampled = resample(no_subscribe,\n                                replace = False,\n                                n_samples = len(subscribe), # match minority length\n                                random_state = 4)\n\n# combine minority and downsampled majority\ndownsampled = np.concatenate((no_subscribe_downsampled, subscribe), axis=0)\n\n# checking counts\ndownsampled_ct=np.unique(downsampled[:,5], return_counts=True)\ndownsampled_ct"
        },
        {
            "cell_type": "code",
            "execution_count": 66,
            "metadata": {},
            "outputs": [],
            "source": "# Use downsample data set as new training data\nXX_train=downsampled[:,0:5]\nyy_train=downsampled[:,5]"
        },
        {
            "cell_type": "markdown",
            "metadata": {},
            "source": "### Modeling - LR3"
        },
        {
            "cell_type": "code",
            "execution_count": 67,
            "metadata": {},
            "outputs": [
                {
                    "name": "stdout",
                    "output_type": "stream",
                    "text": "LR3:  LogisticRegression(C=0.01, class_weight=None, dual=False, fit_intercept=True,\n          intercept_scaling=1, max_iter=100, multi_class='warn',\n          n_jobs=None, penalty='l2', random_state=None, solver='liblinear',\n          tol=0.0001, verbose=0, warm_start=False)\nCoefficient:  [[ 0.11801156 -0.20999016 -0.10771009 -0.0726165  -0.66671687]]\n"
                }
            ],
            "source": "# Modeling - LR3\nLR3 = LogisticRegression(C=0.01, solver='liblinear').fit(XX_train,yy_train)\nprint('LR3: ', LR3)\nprint('Coefficient: ', LR3.coef_)"
        },
        {
            "cell_type": "code",
            "execution_count": 68,
            "metadata": {},
            "outputs": [
                {
                    "data": {
                        "text/plain": "array(['no', 'no', 'no', 'yes', 'no'], dtype=object)"
                    },
                    "execution_count": 68,
                    "metadata": {},
                    "output_type": "execute_result"
                }
            ],
            "source": "# Prediction\nyyhat3 = LR3.predict(X_test)\nyyhat3[0:5]"
        },
        {
            "cell_type": "code",
            "execution_count": 69,
            "metadata": {},
            "outputs": [
                {
                    "data": {
                        "text/plain": "array([[0.77671956, 0.22328044],\n       [0.65841302, 0.34158698],\n       [0.65841302, 0.34158698],\n       [0.37787129, 0.62212871],\n       [0.78339665, 0.21660335]])"
                    },
                    "execution_count": 69,
                    "metadata": {},
                    "output_type": "execute_result"
                }
            ],
            "source": "# Predicting probability ['no','yes']\nyyhat3_prob = LR3.predict_proba(X_test)\nyyhat3_prob[0:5]"
        },
        {
            "cell_type": "code",
            "execution_count": 70,
            "metadata": {},
            "outputs": [
                {
                    "data": {
                        "text/plain": "0.7318603739050856"
                    },
                    "execution_count": 70,
                    "metadata": {},
                    "output_type": "execute_result"
                }
            ],
            "source": "# Calculate the accuracy score of the model prediction \njaccard_similarity_score(y_test, yyhat3)"
        },
        {
            "cell_type": "code",
            "execution_count": 71,
            "metadata": {},
            "outputs": [
                {
                    "name": "stdout",
                    "output_type": "stream",
                    "text": "Confusion matrix, without normalization\n[[ 598  236]\n [1815 5000]]\n"
                },
                {
                    "data": {
                        "image/png": "[encoded data removed]",
                        "text/plain": "<Figure size 432x288 with 2 Axes>"
                    },
                    "metadata": {
                        "needs_background": "light"
                    },
                    "output_type": "display_data"
                }
            ],
            "source": "# Use confusion matrix to check accuracy of the prediction\n# Plot non-normalized confusion matrix\ncnf_mat=confusion_matrix(y_test, yyhat3, labels=['yes','no'])\nplt.figure()\nplot_confusion_matrix(cnf_mat, classes=['subscribe=yes','subscribe=no'],normalize= False,  title='Confusion matrix')"
        },
        {
            "cell_type": "code",
            "execution_count": 72,
            "metadata": {
                "scrolled": true
            },
            "outputs": [
                {
                    "name": "stdout",
                    "output_type": "stream",
                    "text": "              precision    recall  f1-score   support\n\n          no       0.95      0.73      0.83      6815\n         yes       0.25      0.72      0.37       834\n\n   micro avg       0.73      0.73      0.73      7649\n   macro avg       0.60      0.73      0.60      7649\nweighted avg       0.88      0.73      0.78      7649\n\n"
                }
            ],
            "source": "print (classification_report(y_test, yyhat3))"
        },
        {
            "cell_type": "code",
            "execution_count": 73,
            "metadata": {},
            "outputs": [
                {
                    "data": {
                        "image/png": "[encoded data removed]",
                        "text/plain": "<Figure size 432x288 with 1 Axes>"
                    },
                    "metadata": {
                        "needs_background": "light"
                    },
                    "output_type": "display_data"
                }
            ],
            "source": "# Plot ROC curve\nfpr, tpr, thresholds = metrics.roc_curve(y_test,  yyhat3_prob[:,1],pos_label='yes')\nauc = metrics.roc_auc_score(y_test, yyhat3_prob[:,1])\nplt.plot(fpr,tpr,label=\"data = 'yes', auc=\"+str(round(auc,4)))\nplt.plot([0, 1], [0, 1],'r--')\nplt.title('ROC Curve')\nplt.legend(loc=4)\nplt.show()"
        },
        {
            "cell_type": "markdown",
            "metadata": {},
            "source": "##### Result: Feature reduction improved prediction accuracy of 'yes' only slightly (slight increase of recall). So the issue is not overfitting of training data. We could further improve the accuracy of the model by choosing a different classification algorithm such as Decision Tree or SVM. We could also test the result using oversampling. However,  this exercise is to demonstrate my ability to explore unknow dataset using data science methodology. Due to time constraint, no further investigate will be made to improve the model at this point.\n====="
        },
        {
            "cell_type": "markdown",
            "metadata": {},
            "source": "### Conclusion: In this exercise,  a prediction model was built for a Bank Marketing Campaign dataset using Logistic Regression. The goal was to predict if a customer will subscribe to the bank term deposit ('yes'). Initial iteration yielded poor result on prediction of 'yes'. The hypothesis was that the imalance of training data was a major cause. There are overwhelmingly more 'no's in the training set.  Undersampling was then performed and showed large improvement on 'yes' prediction outcome;  feature reduction was also investigated but did not show any improvement. The result also shows that amongst the social and ecomonical indicators, number of employees has highest correlation to the outcome. For future investigation different classification algorithms can be tested to improve prediction accuracy. "
        }
    ],
    "metadata": {
        "kernelspec": {
            "display_name": "Python 3.6",
            "language": "python",
            "name": "python3"
        },
        "language_info": {
            "codemirror_mode": {
                "name": "ipython",
                "version": 3
            },
            "file_extension": ".py",
            "mimetype": "text/x-python",
            "name": "python",
            "nbconvert_exporter": "python",
            "pygments_lexer": "ipython3",
            "version": "3.6.8"
        }
    },
    "nbformat": 4,
    "nbformat_minor": 1
}